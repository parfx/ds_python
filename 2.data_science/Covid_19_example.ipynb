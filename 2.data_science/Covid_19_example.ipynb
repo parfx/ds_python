{
 "cells": [
  {
   "cell_type": "markdown",
   "metadata": {},
   "source": [
    "# Анализ данных по covid-19"
   ]
  },
  {
   "cell_type": "code",
   "execution_count": 1,
   "metadata": {},
   "outputs": [],
   "source": [
    "import numpy as np\n",
    "import pandas as pd\n",
    "import matplotlib.pyplot as plt"
   ]
  },
  {
   "cell_type": "code",
   "execution_count": 3,
   "metadata": {},
   "outputs": [
    {
     "data": {
      "text/html": [
       "<div>\n",
       "<style scoped>\n",
       "    .dataframe tbody tr th:only-of-type {\n",
       "        vertical-align: middle;\n",
       "    }\n",
       "\n",
       "    .dataframe tbody tr th {\n",
       "        vertical-align: top;\n",
       "    }\n",
       "\n",
       "    .dataframe thead th {\n",
       "        text-align: right;\n",
       "    }\n",
       "</style>\n",
       "<table border=\"1\" class=\"dataframe\">\n",
       "  <thead>\n",
       "    <tr style=\"text-align: right;\">\n",
       "      <th></th>\n",
       "      <th>SNo</th>\n",
       "      <th>ObservationDate</th>\n",
       "      <th>Province/State</th>\n",
       "      <th>Country/Region</th>\n",
       "      <th>Last Update</th>\n",
       "      <th>Confirmed</th>\n",
       "      <th>Deaths</th>\n",
       "      <th>Recovered</th>\n",
       "    </tr>\n",
       "  </thead>\n",
       "  <tbody>\n",
       "    <tr>\n",
       "      <th>0</th>\n",
       "      <td>1</td>\n",
       "      <td>01/22/2020</td>\n",
       "      <td>Anhui</td>\n",
       "      <td>Mainland China</td>\n",
       "      <td>1/22/2020 17:00</td>\n",
       "      <td>1.0</td>\n",
       "      <td>0.0</td>\n",
       "      <td>0.0</td>\n",
       "    </tr>\n",
       "    <tr>\n",
       "      <th>1</th>\n",
       "      <td>2</td>\n",
       "      <td>01/22/2020</td>\n",
       "      <td>Beijing</td>\n",
       "      <td>Mainland China</td>\n",
       "      <td>1/22/2020 17:00</td>\n",
       "      <td>14.0</td>\n",
       "      <td>0.0</td>\n",
       "      <td>0.0</td>\n",
       "    </tr>\n",
       "    <tr>\n",
       "      <th>2</th>\n",
       "      <td>3</td>\n",
       "      <td>01/22/2020</td>\n",
       "      <td>Chongqing</td>\n",
       "      <td>Mainland China</td>\n",
       "      <td>1/22/2020 17:00</td>\n",
       "      <td>6.0</td>\n",
       "      <td>0.0</td>\n",
       "      <td>0.0</td>\n",
       "    </tr>\n",
       "    <tr>\n",
       "      <th>3</th>\n",
       "      <td>4</td>\n",
       "      <td>01/22/2020</td>\n",
       "      <td>Fujian</td>\n",
       "      <td>Mainland China</td>\n",
       "      <td>1/22/2020 17:00</td>\n",
       "      <td>1.0</td>\n",
       "      <td>0.0</td>\n",
       "      <td>0.0</td>\n",
       "    </tr>\n",
       "    <tr>\n",
       "      <th>4</th>\n",
       "      <td>5</td>\n",
       "      <td>01/22/2020</td>\n",
       "      <td>Gansu</td>\n",
       "      <td>Mainland China</td>\n",
       "      <td>1/22/2020 17:00</td>\n",
       "      <td>0.0</td>\n",
       "      <td>0.0</td>\n",
       "      <td>0.0</td>\n",
       "    </tr>\n",
       "  </tbody>\n",
       "</table>\n",
       "</div>"
      ],
      "text/plain": [
       "   SNo ObservationDate Province/State  Country/Region      Last Update  \\\n",
       "0    1      01/22/2020          Anhui  Mainland China  1/22/2020 17:00   \n",
       "1    2      01/22/2020        Beijing  Mainland China  1/22/2020 17:00   \n",
       "2    3      01/22/2020      Chongqing  Mainland China  1/22/2020 17:00   \n",
       "3    4      01/22/2020         Fujian  Mainland China  1/22/2020 17:00   \n",
       "4    5      01/22/2020          Gansu  Mainland China  1/22/2020 17:00   \n",
       "\n",
       "   Confirmed  Deaths  Recovered  \n",
       "0        1.0     0.0        0.0  \n",
       "1       14.0     0.0        0.0  \n",
       "2        6.0     0.0        0.0  \n",
       "3        1.0     0.0        0.0  \n",
       "4        0.0     0.0        0.0  "
      ]
     },
     "execution_count": 3,
     "metadata": {},
     "output_type": "execute_result"
    }
   ],
   "source": [
    "data = pd.read_csv(\"covid_19_data.csv\")\n",
    "data.head()"
   ]
  },
  {
   "cell_type": "code",
   "execution_count": 4,
   "metadata": {},
   "outputs": [
    {
     "data": {
      "text/plain": [
       "(156292, 8)"
      ]
     },
     "execution_count": 4,
     "metadata": {},
     "output_type": "execute_result"
    }
   ],
   "source": [
    "data.shape"
   ]
  },
  {
   "cell_type": "code",
   "execution_count": 5,
   "metadata": {},
   "outputs": [
    {
     "name": "stdout",
     "output_type": "stream",
     "text": [
      "<class 'pandas.core.frame.DataFrame'>\n",
      "RangeIndex: 156292 entries, 0 to 156291\n",
      "Data columns (total 8 columns):\n",
      " #   Column           Non-Null Count   Dtype  \n",
      "---  ------           --------------   -----  \n",
      " 0   SNo              156292 non-null  int64  \n",
      " 1   ObservationDate  156292 non-null  object \n",
      " 2   Province/State   111979 non-null  object \n",
      " 3   Country/Region   156292 non-null  object \n",
      " 4   Last Update      156292 non-null  object \n",
      " 5   Confirmed        156292 non-null  float64\n",
      " 6   Deaths           156292 non-null  float64\n",
      " 7   Recovered        156292 non-null  float64\n",
      "dtypes: float64(3), int64(1), object(4)\n",
      "memory usage: 9.5+ MB\n"
     ]
    }
   ],
   "source": [
    "data.info()\n"
   ]
  },
  {
   "cell_type": "code",
   "execution_count": 6,
   "metadata": {},
   "outputs": [
    {
     "data": {
      "text/plain": [
       "Index(['SNo', 'ObservationDate', 'Province/State', 'Country/Region',\n",
       "       'Last Update', 'Confirmed', 'Deaths', 'Recovered'],\n",
       "      dtype='object')"
      ]
     },
     "execution_count": 6,
     "metadata": {},
     "output_type": "execute_result"
    }
   ],
   "source": [
    "data.columns "
   ]
  },
  {
   "cell_type": "code",
   "execution_count": 12,
   "metadata": {},
   "outputs": [
    {
     "data": {
      "text/plain": [
       "<bound method NDFrame.head of        ObservationDate     Province/State  Country/Region  Confirmed  Deaths  \\\n",
       "0           01/22/2020              Anhui  Mainland China        1.0     0.0   \n",
       "1           01/22/2020            Beijing  Mainland China       14.0     0.0   \n",
       "2           01/22/2020          Chongqing  Mainland China        6.0     0.0   \n",
       "3           01/22/2020             Fujian  Mainland China        1.0     0.0   \n",
       "4           01/22/2020              Gansu  Mainland China        0.0     0.0   \n",
       "...                ...                ...             ...        ...     ...   \n",
       "156287      11/15/2020  Zaporizhia Oblast         Ukraine    18484.0   164.0   \n",
       "156288      11/15/2020            Zeeland     Netherlands     5041.0    86.0   \n",
       "156289      11/15/2020           Zhejiang  Mainland China     1291.0     1.0   \n",
       "156290      11/15/2020    Zhytomyr Oblast         Ukraine    22225.0   368.0   \n",
       "156291      11/15/2020       Zuid-Holland     Netherlands   129188.0  2031.0   \n",
       "\n",
       "        Recovered  \n",
       "0             0.0  \n",
       "1             0.0  \n",
       "2             0.0  \n",
       "3             0.0  \n",
       "4             0.0  \n",
       "...           ...  \n",
       "156287     3021.0  \n",
       "156288        0.0  \n",
       "156289     1279.0  \n",
       "156290    12266.0  \n",
       "156291        0.0  \n",
       "\n",
       "[156292 rows x 6 columns]>"
      ]
     },
     "execution_count": 12,
     "metadata": {},
     "output_type": "execute_result"
    }
   ],
   "source": [
    "# удаление ненужных столбцов по ключам\n",
    "data.drop(['SNo', 'Last Update'], axis=1, inplace=True)\n",
    "data.head"
   ]
  },
  {
   "cell_type": "code",
   "execution_count": 13,
   "metadata": {},
   "outputs": [
    {
     "data": {
      "text/plain": [
       "4"
      ]
     },
     "execution_count": 13,
     "metadata": {},
     "output_type": "execute_result"
    }
   ],
   "source": [
    "# проверка на дубликаты\n",
    "data.duplicated(['ObservationDate', 'Province/State', 'Country/Region']).sum()"
   ]
  },
  {
   "cell_type": "code",
   "execution_count": 14,
   "metadata": {},
   "outputs": [],
   "source": [
    "# удаление дубликатов\n",
    "data = data.drop_duplicates(['ObservationDate', 'Province/State', 'Country/Region'])"
   ]
  },
  {
   "cell_type": "code",
   "execution_count": 15,
   "metadata": {},
   "outputs": [
    {
     "data": {
      "text/plain": [
       "0"
      ]
     },
     "execution_count": 15,
     "metadata": {},
     "output_type": "execute_result"
    }
   ],
   "source": [
    "data.duplicated(['ObservationDate', 'Province/State', 'Country/Region']).sum()"
   ]
  },
  {
   "cell_type": "code",
   "execution_count": 16,
   "metadata": {},
   "outputs": [
    {
     "name": "stdout",
     "output_type": "stream",
     "text": [
      "Mainland China\n",
      "Hong Kong\n",
      "Macau\n",
      "Taiwan\n",
      "US\n",
      "Japan\n",
      "Thailand\n",
      "South Korea\n",
      "Singapore\n",
      "Philippines\n",
      "Malaysia\n",
      "Vietnam\n",
      "Australia\n",
      "Mexico\n",
      "Brazil\n",
      "Colombia\n",
      "France\n",
      "Nepal\n",
      "Canada\n",
      "Cambodia\n",
      "Sri Lanka\n",
      "Ivory Coast\n",
      "Germany\n",
      "Finland\n",
      "United Arab Emirates\n",
      "India\n",
      "Italy\n",
      "UK\n",
      "Russia\n",
      "Sweden\n",
      "Spain\n",
      "Belgium\n",
      "Others\n",
      "Egypt\n",
      "Iran\n",
      "Israel\n",
      "Lebanon\n",
      "Iraq\n",
      "Oman\n",
      "Afghanistan\n",
      "Bahrain\n",
      "Kuwait\n",
      "Austria\n",
      "Algeria\n",
      "Croatia\n",
      "Switzerland\n",
      "Pakistan\n",
      "Georgia\n",
      "Greece\n",
      "North Macedonia\n",
      "Norway\n",
      "Romania\n",
      "Denmark\n",
      "Estonia\n",
      "Netherlands\n",
      "San Marino\n",
      " Azerbaijan\n",
      "Belarus\n",
      "Iceland\n",
      "Lithuania\n",
      "New Zealand\n",
      "Nigeria\n",
      "North Ireland\n",
      "Ireland\n",
      "Luxembourg\n",
      "Monaco\n",
      "Qatar\n",
      "Ecuador\n",
      "Azerbaijan\n",
      "Czech Republic\n",
      "Armenia\n",
      "Dominican Republic\n",
      "Indonesia\n",
      "Portugal\n",
      "Andorra\n",
      "Latvia\n",
      "Morocco\n",
      "Saudi Arabia\n",
      "Senegal\n",
      "Argentina\n",
      "Chile\n",
      "Jordan\n",
      "Ukraine\n",
      "Saint Barthelemy\n",
      "Hungary\n",
      "Faroe Islands\n",
      "Gibraltar\n",
      "Liechtenstein\n",
      "Poland\n",
      "Tunisia\n",
      "Palestine\n",
      "Bosnia and Herzegovina\n",
      "Slovenia\n",
      "South Africa\n",
      "Bhutan\n",
      "Cameroon\n",
      "Costa Rica\n",
      "Peru\n",
      "Serbia\n",
      "Slovakia\n",
      "Togo\n",
      "Vatican City\n",
      "French Guiana\n",
      "Malta\n",
      "Martinique\n",
      "Republic of Ireland\n",
      "Bulgaria\n",
      "Maldives\n",
      "Bangladesh\n",
      "Moldova\n",
      "Paraguay\n",
      "Albania\n",
      "Cyprus\n",
      "St. Martin\n",
      "Brunei\n",
      "occupied Palestinian territory\n",
      "('St. Martin',)\n",
      "Burkina Faso\n",
      "Channel Islands\n",
      "Holy See\n",
      "Mongolia\n",
      "Panama\n",
      "Bolivia\n",
      "Honduras\n",
      "Congo (Kinshasa)\n",
      "Jamaica\n",
      "Reunion\n",
      "Turkey\n",
      "Cuba\n",
      "Guyana\n",
      "Kazakhstan\n",
      "Cayman Islands\n",
      "Guadeloupe\n",
      "Ethiopia\n",
      "Sudan\n",
      "Guinea\n",
      "Antigua and Barbuda\n",
      "Aruba\n",
      "Kenya\n",
      "Uruguay\n",
      "Ghana\n",
      "Jersey\n",
      "Namibia\n",
      "Seychelles\n",
      "Trinidad and Tobago\n",
      "Venezuela\n",
      "Curacao\n",
      "Eswatini\n",
      "Gabon\n",
      "Guatemala\n",
      "Guernsey\n",
      "Mauritania\n",
      "Rwanda\n",
      "Saint Lucia\n",
      "Saint Vincent and the Grenadines\n",
      "Suriname\n",
      "Kosovo\n",
      "Central African Republic\n",
      "Congo (Brazzaville)\n",
      "Equatorial Guinea\n",
      "Uzbekistan\n",
      "Guam\n",
      "Puerto Rico\n",
      "Benin\n",
      "Greenland\n",
      "Liberia\n",
      "Mayotte\n",
      "Republic of the Congo\n",
      "Somalia\n",
      "Tanzania\n",
      "The Bahamas\n",
      "Barbados\n",
      "Montenegro\n",
      "The Gambia\n",
      "Kyrgyzstan\n",
      "Mauritius\n",
      "Zambia\n",
      "Djibouti\n",
      "Gambia, The\n",
      "Bahamas, The\n",
      "Chad\n",
      "El Salvador\n",
      "Fiji\n",
      "Nicaragua\n",
      "Madagascar\n",
      "Haiti\n",
      "Angola\n",
      "Cabo Verde\n",
      "Niger\n",
      "Papua New Guinea\n",
      "Zimbabwe\n",
      "Cape Verde\n",
      "East Timor\n",
      "Eritrea\n",
      "Uganda\n",
      "Bahamas\n",
      "Dominica\n",
      "Gambia\n",
      "Grenada\n",
      "Mozambique\n",
      "Syria\n",
      "Timor-Leste\n",
      "Belize\n",
      "Laos\n",
      "Libya\n",
      "Diamond Princess\n",
      "Guinea-Bissau\n",
      "Mali\n",
      "Saint Kitts and Nevis\n",
      "West Bank and Gaza\n",
      "Burma\n",
      "MS Zaandam\n",
      "Botswana\n",
      "Burundi\n",
      "Sierra Leone\n",
      "Malawi\n",
      "South Sudan\n",
      "Western Sahara\n",
      "Sao Tome and Principe\n",
      "Yemen\n",
      "Comoros\n",
      "Tajikistan\n",
      "Lesotho\n",
      "Solomon Islands\n",
      "Marshall Islands\n",
      "Vanuatu\n"
     ]
    }
   ],
   "source": [
    "# изучаем страны\n",
    "country_list = data[\"Country/Region\"].unique()\n",
    "\n",
    "for country in country_list:\n",
    "    print(country)"
   ]
  },
  {
   "cell_type": "code",
   "execution_count": null,
   "metadata": {},
   "outputs": [],
   "source": []
  }
 ],
 "metadata": {
  "kernelspec": {
   "display_name": "Python 3",
   "language": "python",
   "name": "python3"
  },
  "language_info": {
   "codemirror_mode": {
    "name": "ipython",
    "version": 3
   },
   "file_extension": ".py",
   "mimetype": "text/x-python",
   "name": "python",
   "nbconvert_exporter": "python",
   "pygments_lexer": "ipython3",
   "version": "3.8.3"
  }
 },
 "nbformat": 4,
 "nbformat_minor": 4
}
